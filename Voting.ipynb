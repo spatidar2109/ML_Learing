{
  "nbformat": 4,
  "nbformat_minor": 0,
  "metadata": {
    "colab": {
      "name": "Voting.ipynb",
      "provenance": [],
      "collapsed_sections": [],
      "authorship_tag": "ABX9TyPBmH8JwJew2LF0Nzk3JGzX",
      "include_colab_link": true
    },
    "kernelspec": {
      "name": "python3",
      "display_name": "Python 3"
    },
    "language_info": {
      "name": "python"
    }
  },
  "cells": [
    {
      "cell_type": "markdown",
      "metadata": {
        "id": "view-in-github",
        "colab_type": "text"
      },
      "source": [
        "<a href=\"https://colab.research.google.com/github/spatidar2109/ML_Learing/blob/main/Voting.ipynb\" target=\"_parent\"><img src=\"https://colab.research.google.com/assets/colab-badge.svg\" alt=\"Open In Colab\"/></a>"
      ]
    },
    {
      "cell_type": "code",
      "execution_count": 1,
      "metadata": {
        "colab": {
          "base_uri": "https://localhost:8080/"
        },
        "id": "bhj59ck-JxF2",
        "outputId": "4948495c-1639-40a9-f6c9-10f467c1abdb"
      },
      "outputs": [
        {
          "output_type": "stream",
          "name": "stdout",
          "text": [
            "[[134   4]\n",
            " [  7  65]]\n",
            "              precision    recall  f1-score   support\n",
            "\n",
            "           0       0.95      0.97      0.96       138\n",
            "           1       0.94      0.90      0.92        72\n",
            "\n",
            "    accuracy                           0.95       210\n",
            "   macro avg       0.95      0.94      0.94       210\n",
            "weighted avg       0.95      0.95      0.95       210\n",
            "\n",
            "0.9476190476190476\n",
            "0.9871175523349437\n"
          ]
        }
      ],
      "source": [
        "import pandas as pd\n",
        "import numpy as np\n",
        "\n",
        "from sklearn.model_selection import train_test_split \n",
        "from sklearn.metrics import confusion_matrix, classification_report\n",
        "from sklearn.metrics import accuracy_score\n",
        "\n",
        "from sklearn.tree import DecisionTreeClassifier\n",
        "from sklearn.linear_model import LogisticRegression\n",
        "from sklearn.naive_bayes import GaussianNB\n",
        "\n",
        "from sklearn.ensemble import VotingClassifier\n",
        "from sklearn.metrics import roc_auc_score\n",
        "\n",
        "dtc = DecisionTreeClassifier(random_state=2019)\n",
        "logreg = LogisticRegression()\n",
        "gauss = GaussianNB()\n",
        "\n",
        "Voting = VotingClassifier(estimators=[('DT',dtc),\n",
        "                                      ('LR',logreg),\n",
        "                                      ('GU',gauss)],voting='soft')\n",
        "\n",
        "df = pd.read_csv(\"/content/BreastCancer.csv\")\n",
        "dum_df = pd.get_dummies(df, drop_first=True)\n",
        "\n",
        "X = dum_df.iloc[:,1:10]\n",
        "y = dum_df.iloc[:,10]\n",
        "\n",
        "# Create training and test sets\n",
        "X_train, X_test, y_train, y_test = train_test_split(X, y, test_size = 0.3, \n",
        "                                                    random_state=2018,\n",
        "                                                    stratify=y)\n",
        "\n",
        "Voting.fit(X_train,y_train)\n",
        "y_pred = Voting.predict(X_test)\n",
        "\n",
        "print(confusion_matrix(y_test, y_pred))\n",
        "print(classification_report(y_test, y_pred))\n",
        "print(accuracy_score(y_test,y_pred))\n",
        "y_pred_prob = Voting.predict_proba(X_test)[:,1]\n",
        "print(roc_auc_score(y_test, y_pred_prob))\n"
      ]
    },
    {
      "cell_type": "code",
      "source": [
        "###################### Regressor#############"
      ],
      "metadata": {
        "id": "BJHeGeLgK19Y"
      },
      "execution_count": null,
      "outputs": []
    },
    {
      "cell_type": "code",
      "source": [
        "import pandas as pd\n",
        "import numpy as np\n",
        "\n",
        "Housing = pd.read_csv(\"/content/Housing (2).csv\")\n",
        "dum_Housing = pd.get_dummies(Housing.iloc[:,1:11], drop_first=True)\n",
        "\n",
        "from sklearn.model_selection import train_test_split \n",
        "from sklearn.tree import DecisionTreeRegressor\n",
        "from sklearn.linear_model import LinearRegression\n",
        "from sklearn.svm import SVR\n",
        "\n",
        "from sklearn.ensemble import VotingRegressor\n",
        "X = dum_Housing\n",
        "y = Housing.iloc[:,1]\n",
        "\n",
        "# Create training and test sets\n",
        "X_train, X_test, y_train, y_test = train_test_split(X, y, test_size = 0.4, \n",
        "                                                    random_state=42)\n",
        "\n",
        "dtr = DecisionTreeRegressor(random_state=2019,max_depth=4)\n",
        "lr = LinearRegression()\n",
        "svr = SVR()\n",
        "\n",
        "# Average\n",
        "Voting = VotingRegressor(estimators=[('DT',dtr),('LR',lr),('SV',svr)])\n",
        "#OR Weighted Average\n",
        "Voting = VotingRegressor(estimators=[('DT',dtr),('LR',lr),('SV',svr)],\n",
        "                                     weights=np.array([0.2,0.5,0.3]))\n",
        "\n",
        "Voting.fit(X_train,y_train)\n",
        "y_pred = Voting.predict(X_test)\n",
        "\n",
        "from sklearn.metrics import mean_squared_error\n",
        "from sklearn.metrics import mean_absolute_error,r2_score\n",
        "print(mean_squared_error(y_test, y_pred) ** 0.5)\n",
        "print(mean_absolute_error(y_test, y_pred))\n",
        "print(r2_score(y_test, y_pred))\n"
      ],
      "metadata": {
        "colab": {
          "base_uri": "https://localhost:8080/"
        },
        "id": "4_9Hmlk_K96L",
        "outputId": "6e996b2b-8ee7-40c5-d11e-73ca01febf68"
      },
      "execution_count": 2,
      "outputs": [
        {
          "output_type": "stream",
          "name": "stdout",
          "text": [
            "764.1967452303898\n",
            "523.6993942110081\n",
            "0.893323758187979\n"
          ]
        }
      ]
    },
    {
      "cell_type": "code",
      "source": [
        ""
      ],
      "metadata": {
        "id": "Xo7SlIx6LZCK"
      },
      "execution_count": null,
      "outputs": []
    }
  ]
}