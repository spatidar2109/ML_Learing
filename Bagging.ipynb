{
  "nbformat": 4,
  "nbformat_minor": 0,
  "metadata": {
    "colab": {
      "name": "Bagging.ipynb",
      "provenance": [],
      "collapsed_sections": [],
      "authorship_tag": "ABX9TyPa5epvmFJXnViaVbeDqcbL",
      "include_colab_link": true
    },
    "kernelspec": {
      "name": "python3",
      "display_name": "Python 3"
    },
    "language_info": {
      "name": "python"
    }
  },
  "cells": [
    {
      "cell_type": "markdown",
      "metadata": {
        "id": "view-in-github",
        "colab_type": "text"
      },
      "source": [
        "<a href=\"https://colab.research.google.com/github/spatidar2109/ML_Learing/blob/main/Bagging.ipynb\" target=\"_parent\"><img src=\"https://colab.research.google.com/assets/colab-badge.svg\" alt=\"Open In Colab\"/></a>"
      ]
    },
    {
      "cell_type": "code",
      "execution_count": 1,
      "metadata": {
        "colab": {
          "base_uri": "https://localhost:8080/",
          "height": 627
        },
        "id": "XEllfJH9AW4X",
        "outputId": "aa61559b-a505-4e2b-a143-ceadf638788b"
      },
      "outputs": [
        {
          "output_type": "stream",
          "name": "stderr",
          "text": [
            "/usr/local/lib/python3.7/dist-packages/sklearn/ensemble/_bagging.py:707: UserWarning: Some inputs do not have OOB scores. This probably means too few estimators were used to compute any reliable oob estimates.\n",
            "  \"Some inputs do not have OOB scores. \"\n",
            "/usr/local/lib/python3.7/dist-packages/sklearn/ensemble/_bagging.py:712: RuntimeWarning: invalid value encountered in true_divide\n",
            "  oob_decision_function = predictions / predictions.sum(axis=1)[:, np.newaxis]\n"
          ]
        },
        {
          "output_type": "stream",
          "name": "stdout",
          "text": [
            "Out of Bag Score = 0.9571\n",
            "[[135   3]\n",
            " [  8  64]]\n",
            "              precision    recall  f1-score   support\n",
            "\n",
            "           0       0.94      0.98      0.96       138\n",
            "           1       0.96      0.89      0.92        72\n",
            "\n",
            "    accuracy                           0.95       210\n",
            "   macro avg       0.95      0.93      0.94       210\n",
            "weighted avg       0.95      0.95      0.95       210\n",
            "\n",
            "0.9476190476190476\n"
          ]
        },
        {
          "output_type": "display_data",
          "data": {
            "image/png": "[encoded data removed]",
            "text/plain": [
              "<Figure size 432x288 with 1 Axes>"
            ]
          },
          "metadata": {
            "needs_background": "light"
          }
        },
        {
          "output_type": "execute_result",
          "data": {
            "text/plain": [
              "0.9879227053140096"
            ]
          },
          "metadata": {},
          "execution_count": 1
        }
      ],
      "source": [
        "import pandas as pd\n",
        "\n",
        "df = pd.read_csv(\"/content/BreastCancer.csv\")\n",
        "\n",
        "dum_df = pd.get_dummies(df)\n",
        "dum_df = dum_df.drop('Class_Benign', axis=1)\n",
        "\n",
        "from sklearn.model_selection import train_test_split \n",
        "from sklearn.metrics import confusion_matrix\n",
        "from sklearn.metrics import classification_report, accuracy_score\n",
        "from sklearn.ensemble import BaggingClassifier\n",
        "\n",
        "X = dum_df.iloc[:,1:10]\n",
        "y = dum_df.iloc[:,10]\n",
        "\n",
        "X_train, X_test, y_train, y_test = train_test_split(X, y,test_size = 0.3, \n",
        "                                                    random_state=2018,\n",
        "                                                    stratify=y)\n",
        "\n",
        "# Default: Tree Classifier\n",
        "model_rf = BaggingClassifier(random_state=1211,oob_score=True,\n",
        "                             max_features=X.shape[1],\n",
        "                             n_estimators=50)\n",
        "\n",
        "#OR for any other model bagging\n",
        "from sklearn.linear_model import LogisticRegression\n",
        "\n",
        "model_rf = BaggingClassifier(base_estimator = LogisticRegression() ,\n",
        "                             random_state=1211,oob_score=True,\n",
        "                             max_features=X.shape[1])\n",
        "                             \n",
        "model_rf.fit( X_train , y_train )\n",
        "\n",
        "print(\"Out of Bag Score = \" + \"{:.4f}\".format(model_rf.oob_score_))\n",
        "\n",
        "y_pred = model_rf.predict(X_test)\n",
        "\n",
        "print(confusion_matrix(y_test, y_pred))\n",
        "print(classification_report(y_test, y_pred))\n",
        "print(accuracy_score(y_test, y_pred))\n",
        "\n",
        "from sklearn.metrics import roc_curve, roc_auc_score\n",
        "\n",
        "# Compute predicted probabilities: y_pred_prob\n",
        "y_pred_prob = model_rf.predict_proba(X_test)[:,1]\n",
        "\n",
        "# Generate ROC curve values: fpr, tpr, thresholds\n",
        "fpr, tpr, thresholds = roc_curve(y_test, y_pred_prob)\n",
        "\n",
        "# Plot ROC curve\n",
        "import matplotlib.pyplot as plt\n",
        "plt.plot([0, 1], [0, 1], 'k--')\n",
        "plt.plot(fpr, tpr)\n",
        "plt.xlabel('False Positive Rate')\n",
        "plt.ylabel('True Positive Rate')\n",
        "plt.title('ROC Curve')\n",
        "plt.show()\n",
        "roc_auc_score(y_test, y_pred_prob)\n"
      ]
    },
    {
      "cell_type": "code",
      "source": [
        "####### Regressor##############"
      ],
      "metadata": {
        "id": "jLk9jbdZBVC0"
      },
      "execution_count": null,
      "outputs": []
    },
    {
      "cell_type": "code",
      "source": [
        "import pandas as pd\n",
        "df = pd.read_csv(\"/content/Housing (2).csv\")\n",
        "dum_df = pd.get_dummies(df.iloc[:,1:11], drop_first=True)\n",
        "\n",
        "from sklearn.model_selection import train_test_split \n",
        "from sklearn.ensemble import BaggingRegressor\n",
        "\n",
        "X = dum_df\n",
        "y = df.iloc[:,1]\n",
        "\n",
        "# Create training and test sets\n",
        "X_train, X_test, y_train, y_test = train_test_split(X, y,test_size = 0.3, \n",
        "                                                    random_state=2018)\n",
        "\n",
        "# Default: Tree Regressor\n",
        "model_rf = BaggingRegressor(random_state=1211,oob_score=True,\n",
        "                            max_features = X.shape[1])\n",
        "\n",
        "# any other model bagging regressor\n",
        "from sklearn.linear_model import LinearRegression\n",
        "model_rf = BaggingRegressor(base_estimator = LinearRegression(),\n",
        "                            random_state=1211,oob_score=True,\n",
        "                            max_features = X.shape[1])\n",
        "\n",
        "model_rf.fit( X_train , y_train )\n",
        "\n",
        "print(\"Out of Bag Score = \" + \"{:.4f}\".format(model_rf.oob_score_))\n",
        "\n",
        "y_pred = model_rf.predict(X_test)\n",
        "\n",
        "from sklearn.metrics import mean_squared_error,mean_absolute_error,r2_score\n",
        "print(mean_squared_error(y_test, y_pred))\n",
        "print(mean_absolute_error(y_test, y_pred))\n",
        "print(r2_score(y_test, y_pred))\n"
      ],
      "metadata": {
        "colab": {
          "base_uri": "https://localhost:8080/"
        },
        "id": "S0BXri7DCD0o",
        "outputId": "ff60999a-606a-4f44-a772-64b5d6ff6892"
      },
      "execution_count": 2,
      "outputs": [
        {
          "output_type": "stream",
          "name": "stdout",
          "text": [
            "Out of Bag Score = 0.9185\n",
            "3.782838167163236e-27\n",
            "8.31854910158166e-15\n",
            "1.0\n"
          ]
        },
        {
          "output_type": "stream",
          "name": "stderr",
          "text": [
            "/usr/local/lib/python3.7/dist-packages/sklearn/ensemble/_bagging.py:1164: UserWarning: Some inputs do not have OOB scores. This probably means too few estimators were used to compute any reliable oob estimates.\n",
            "  \"Some inputs do not have OOB scores. \"\n"
          ]
        }
      ]
    },
    {
      "cell_type": "code",
      "source": [
        ""
      ],
      "metadata": {
        "id": "urtex5W1CJtG"
      },
      "execution_count": null,
      "outputs": []
    }
  ]
}