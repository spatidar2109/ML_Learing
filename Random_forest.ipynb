{
  "nbformat": 4,
  "nbformat_minor": 0,
  "metadata": {
    "colab": {
      "name": "Random_forest.ipynb",
      "provenance": [],
      "collapsed_sections": [],
      "authorship_tag": "ABX9TyNtpCv7npZKAvMtXDAPcR1D",
      "include_colab_link": true
    },
    "kernelspec": {
      "name": "python3",
      "display_name": "Python 3"
    },
    "language_info": {
      "name": "python"
    }
  },
  "cells": [
    {
      "cell_type": "markdown",
      "metadata": {
        "id": "view-in-github",
        "colab_type": "text"
      },
      "source": [
        "<a href=\"https://colab.research.google.com/github/spatidar2109/ML_Learing/blob/main/Random_forest.ipynb\" target=\"_parent\"><img src=\"https://colab.research.google.com/assets/colab-badge.svg\" alt=\"Open In Colab\"/></a>"
      ]
    },
    {
      "cell_type": "code",
      "execution_count": 4,
      "metadata": {
        "colab": {
          "base_uri": "https://localhost:8080/",
          "height": 954
        },
        "id": "o6Cnkd6bCycl",
        "outputId": "53a12128-0201-4b58-8712-5b843030451e"
      },
      "outputs": [
        {
          "output_type": "stream",
          "name": "stdout",
          "text": [
            "[[135   3]\n",
            " [  8  64]]\n",
            "              precision    recall  f1-score   support\n",
            "\n",
            "           0       0.94      0.98      0.96       138\n",
            "           1       0.96      0.89      0.92        72\n",
            "\n",
            "    accuracy                           0.95       210\n",
            "   macro avg       0.95      0.93      0.94       210\n",
            "weighted avg       0.95      0.95      0.95       210\n",
            "\n",
            "0.9476190476190476\n"
          ]
        },
        {
          "output_type": "display_data",
          "data": {
            "image/png": "[encoded data removed]",
            "text/plain": [
              "<Figure size 432x288 with 1 Axes>"
            ]
          },
          "metadata": {
            "needs_background": "light"
          }
        },
        {
          "output_type": "stream",
          "name": "stdout",
          "text": [
            "Clump = 0.047020568961298956\n",
            "UniCell_Size = 0.322396688953662\n",
            "Uni_CellShape = 0.19676385702228594\n",
            "MargAdh = 0.02478712653822775\n",
            "SEpith = 0.04765061521755296\n",
            "BareN = 0.15380492511066526\n",
            "BChromatin = 0.11024973470258319\n",
            "NoemN = 0.0900966742305421\n",
            "Mitoses = 0.007229809263181683\n"
          ]
        },
        {
          "output_type": "display_data",
          "data": {
            "image/png": "[encoded data removed]",
            "text/plain": [
              "<Figure size 432x288 with 1 Axes>"
            ]
          },
          "metadata": {
            "needs_background": "light"
          }
        },
        {
          "output_type": "stream",
          "name": "stdout",
          "text": [
            "0.9693251533742331\n"
          ]
        }
      ],
      "source": [
        "import pandas as pd\n",
        "\n",
        "df = pd.read_csv(\"/content/BreastCancer.csv\")\n",
        "\n",
        "dum_df = pd.get_dummies(df)\n",
        "dum_df = dum_df.drop('Class_Benign', axis=1)\n",
        "\n",
        "from sklearn.model_selection import train_test_split \n",
        "from sklearn.metrics import confusion_matrix\n",
        "from sklearn.metrics import classification_report, accuracy_score\n",
        "from sklearn.ensemble import RandomForestClassifier\n",
        "\n",
        "X = dum_df.iloc[:,1:10]\n",
        "y = dum_df.iloc[:,10]\n",
        "\n",
        "X_train, X_test, y_train, y_test = train_test_split(X, y,test_size = 0.3, \n",
        "                                                    random_state=2018,\n",
        "                                                    stratify=y)\n",
        "\n",
        "model_rf = RandomForestClassifier(random_state=1211,\n",
        "                                  n_estimators=500,oob_score=True)\n",
        "model_rf.fit( X_train , y_train )\n",
        "y_pred = model_rf.predict(X_test)\n",
        "\n",
        "print(confusion_matrix(y_test, y_pred))\n",
        "print(classification_report(y_test, y_pred))\n",
        "print(accuracy_score(y_test, y_pred))\n",
        "\n",
        "from sklearn.metrics import roc_curve, roc_auc_score\n",
        "\n",
        "# Compute predicted probabilities: y_pred_prob\n",
        "y_pred_prob = model_rf.predict_proba(X_test)[:,1]\n",
        "\n",
        "# Generate ROC curve values: fpr, tpr, thresholds\n",
        "fpr, tpr, thresholds = roc_curve(y_test, y_pred_prob)\n",
        "\n",
        "# Plot ROC curve\n",
        "import matplotlib.pyplot as plt\n",
        "plt.plot([0, 1], [0, 1], 'k--')\n",
        "plt.plot(fpr, tpr)\n",
        "plt.xlabel('False Positive Rate')\n",
        "plt.ylabel('True Positive Rate')\n",
        "plt.title('ROC Curve')\n",
        "plt.show()\n",
        "roc_auc_score(y_test, y_pred_prob)\n",
        "\n",
        "##########################Feature Importance########################\n",
        "for name, importance in zip(X.columns, model_rf.feature_importances_):\n",
        "    print(name, \"=\", importance)\n",
        "\n",
        "import numpy as np    \n",
        "features = X.columns\n",
        "importances = model_rf.feature_importances_\n",
        "indices = np.argsort(importances)\n",
        "\n",
        "plt.title('Feature Importance Plot')\n",
        "plt.barh(range(len(indices)), importances[indices], color='b', align='center')\n",
        "plt.yticks(range(len(indices)), [features[i] for i in indices])\n",
        "plt.xlabel('Relative Importance')\n",
        "plt.show()\n",
        "\n",
        "#####################Out of Bag Error###############################\n",
        "print(model_rf.oob_score_)\n"
      ]
    },
    {
      "cell_type": "code",
      "source": [
        "############### Regressor###########\n"
      ],
      "metadata": {
        "id": "RmCIV8J9C6up"
      },
      "execution_count": null,
      "outputs": []
    },
    {
      "cell_type": "code",
      "source": [
        "import pandas as pd\n",
        "\n",
        "df = pd.read_csv(\"/content/Housing (2).csv\")\n",
        "dum_df = pd.get_dummies(df.iloc[:,1:11], drop_first=True)\n",
        "\n",
        "from sklearn.model_selection import train_test_split \n",
        "from sklearn.ensemble import RandomForestRegressor\n",
        "\n",
        "X = dum_df\n",
        "y = df.iloc[:,1]\n",
        "\n",
        "# Create training and test sets\n",
        "X_train, X_test, y_train, y_test = train_test_split(X, y,test_size = 0.3, \n",
        "                                                    random_state=2018)\n",
        "\n",
        "model_rf = RandomForestRegressor(random_state=1211)\n",
        "model_rf.fit( X_train , y_train )\n",
        "y_pred = model_rf.predict(X_test)\n",
        "\n",
        "\n",
        "from sklearn.metrics import mean_squared_error,mean_absolute_error,r2_score\n",
        "print(mean_squared_error(y_test, y_pred))\n",
        "print(mean_absolute_error(y_test, y_pred))\n",
        "print(r2_score(y_test, y_pred))"
      ],
      "metadata": {
        "colab": {
          "base_uri": "https://localhost:8080/"
        },
        "id": "OAUNxJMUD8Ko",
        "outputId": "c341d3a8-fc90-4485-ae21-1f4bdf078033"
      },
      "execution_count": 10,
      "outputs": [
        {
          "output_type": "stream",
          "name": "stdout",
          "text": [
            "1265.5356292682907\n",
            "15.451585365853639\n",
            "0.9996317069647893\n"
          ]
        }
      ]
    },
    {
      "cell_type": "code",
      "source": [
        ""
      ],
      "metadata": {
        "id": "WnpMl4yuEkzf"
      },
      "execution_count": null,
      "outputs": []
    }
  ]
}