{
  "nbformat": 4,
  "nbformat_minor": 0,
  "metadata": {
    "colab": {
      "name": "XG_Boost.ipynb",
      "provenance": [],
      "collapsed_sections": [],
      "authorship_tag": "ABX9TyOIrQZ0Yo8BDfAlXrVB/Pr0",
      "include_colab_link": true
    },
    "kernelspec": {
      "name": "python3",
      "display_name": "Python 3"
    },
    "language_info": {
      "name": "python"
    }
  },
  "cells": [
    {
      "cell_type": "markdown",
      "metadata": {
        "id": "view-in-github",
        "colab_type": "text"
      },
      "source": [
        "<a href=\"https://colab.research.google.com/github/spatidar2109/ML_Learing/blob/main/XG_Boost.ipynb\" target=\"_parent\"><img src=\"https://colab.research.google.com/assets/colab-badge.svg\" alt=\"Open In Colab\"/></a>"
      ]
    },
    {
      "cell_type": "code",
      "execution_count": 1,
      "metadata": {
        "colab": {
          "base_uri": "https://localhost:8080/",
          "height": 521
        },
        "id": "iqdOSUohIydF",
        "outputId": "b6316809-4e43-4cda-ed6c-a5648183469a"
      },
      "outputs": [
        {
          "output_type": "stream",
          "name": "stdout",
          "text": [
            "[[2881   13]\n",
            " [  67   39]]\n",
            "              precision    recall  f1-score   support\n",
            "\n",
            "           0       0.98      1.00      0.99      2894\n",
            "           1       0.75      0.37      0.49       106\n",
            "\n",
            "    accuracy                           0.97      3000\n",
            "   macro avg       0.86      0.68      0.74      3000\n",
            "weighted avg       0.97      0.97      0.97      3000\n",
            "\n",
            "0.9733333333333334\n"
          ]
        },
        {
          "output_type": "display_data",
          "data": {
            "image/png": "[encoded data removed]",
            "text/plain": [
              "<Figure size 432x288 with 1 Axes>"
            ]
          },
          "metadata": {
            "needs_background": "light"
          }
        },
        {
          "output_type": "execute_result",
          "data": {
            "text/plain": [
              "0.9443350588726187"
            ]
          },
          "metadata": {},
          "execution_count": 1
        }
      ],
      "source": [
        "import pandas as pd\n",
        "#import numpy as np\n",
        "\n",
        "Default = pd.read_csv(\"/content/Default.csv\")\n",
        "dum_Default = pd.get_dummies(Default, drop_first=True)\n",
        "\n",
        "X = dum_Default.iloc[:,[0,1,3]]\n",
        "y = dum_Default.iloc[:,2]\n",
        "\n",
        "# Import the necessary modules\n",
        "from sklearn.model_selection import train_test_split \n",
        "from sklearn.metrics import confusion_matrix, classification_report\n",
        "from sklearn.metrics import accuracy_score\n",
        "from xgboost import XGBClassifier\n",
        "\n",
        "# Create training and test sets\n",
        "X_train, X_test, y_train, y_test = train_test_split(X, y, test_size = 0.3, \n",
        "                                                    random_state=2018)\n",
        "\n",
        "clf = XGBClassifier(random_state=2000)\n",
        "clf.fit(X_train,y_train)\n",
        "\n",
        "y_pred = clf.predict(X_test)\n",
        "print(confusion_matrix(y_test, y_pred))\n",
        "print(classification_report(y_test, y_pred))\n",
        "print(accuracy_score(y_test,y_pred))\n",
        "\n",
        "################ROC#############################\n",
        "\n",
        "# Import necessary modules\n",
        "from sklearn.metrics import roc_curve, roc_auc_score\n",
        "\n",
        "# Compute predicted probabilities: y_pred_prob\n",
        "y_pred_prob = clf.predict_proba(X_test)[:,1]\n",
        "\n",
        "# Generate ROC curve values: fpr, tpr, thresholds\n",
        "fpr, tpr, thresholds = roc_curve(y_test, y_pred_prob)\n",
        "\n",
        "# Plot ROC curve\n",
        "import matplotlib.pyplot as plt\n",
        "plt.plot([0, 1], [0, 1], 'k--')\n",
        "plt.plot(fpr, tpr)\n",
        "plt.xlabel('False Positive Rate')\n",
        "plt.ylabel('True Positive Rate')\n",
        "plt.title('ROC Curve')\n",
        "plt.show()\n",
        "roc_auc_score(y_test, y_pred_prob)\n",
        "\n",
        "\n",
        "\n"
      ]
    },
    {
      "cell_type": "code",
      "source": [
        ""
      ],
      "metadata": {
        "id": "CLhxz2wgJMwa"
      },
      "execution_count": null,
      "outputs": []
    },
    {
      "cell_type": "code",
      "source": [
        "##################Tunning XGB#####################\n",
        "lr_range = [0.001, 0.01, 0.1, 0.2,0.25, 0.3]\n",
        "n_est_range = [10,20,30,50,100]\n",
        "md_range = [2,4,6,8,10]\n",
        "\n",
        "parameters = dict(learning_rate=lr_range,\n",
        "                  n_estimators=n_est_range,\n",
        "                  max_depth=md_range)\n",
        "\n",
        "from sklearn.model_selection import GridSearchCV\n",
        "clf = XGBClassifier(random_state=2000)\n",
        "cv = GridSearchCV(clf, param_grid=parameters,\n",
        "                  cv=5,scoring='roc_auc')\n",
        "\n",
        "cv.fit(X,y)\n",
        "\n",
        "print(cv.best_params_)\n",
        "\n",
        "print(cv.best_score_)"
      ],
      "metadata": {
        "colab": {
          "base_uri": "https://localhost:8080/"
        },
        "id": "KNwJnWYzJMzI",
        "outputId": "8205bb58-340e-4518-936a-c89ffcab622c"
      },
      "execution_count": 2,
      "outputs": [
        {
          "output_type": "stream",
          "name": "stdout",
          "text": [
            "{'learning_rate': 0.25, 'max_depth': 2, 'n_estimators': 30}\n",
            "0.9479465192682641\n"
          ]
        }
      ]
    },
    {
      "cell_type": "code",
      "source": [
        ""
      ],
      "metadata": {
        "id": "NpwVsyw6JXQ5"
      },
      "execution_count": null,
      "outputs": []
    }
  ]
}